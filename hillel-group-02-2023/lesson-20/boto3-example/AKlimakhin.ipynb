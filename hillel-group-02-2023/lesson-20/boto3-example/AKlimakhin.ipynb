{
 "cells": [
  {
   "cell_type": "code",
   "execution_count": 9,
   "id": "e736a1e2-2cfa-4a31-bf3a-d8bd4ec6d4b0",
   "metadata": {
    "tags": []
   },
   "outputs": [
    {
     "name": "stdout",
     "output_type": "stream",
     "text": [
      "Defaulting to user installation because normal site-packages is not writeable\n",
      "Requirement already satisfied: requests in /home/klima/.local/lib/python3.10/site-packages (from -r requirements.txt (line 1)) (2.30.0)\n",
      "Requirement already satisfied: boto3 in /home/klima/.local/lib/python3.10/site-packages (from -r requirements.txt (line 2)) (1.26.133)\n",
      "Requirement already satisfied: certifi>=2017.4.17 in /usr/lib/python3/dist-packages (from requests->-r requirements.txt (line 1)) (2020.6.20)\n",
      "Requirement already satisfied: urllib3<3,>=1.21.1 in /usr/lib/python3/dist-packages (from requests->-r requirements.txt (line 1)) (1.26.5)\n",
      "Requirement already satisfied: charset-normalizer<4,>=2 in /home/klima/.local/lib/python3.10/site-packages (from requests->-r requirements.txt (line 1)) (3.1.0)\n",
      "Requirement already satisfied: idna<4,>=2.5 in /usr/lib/python3/dist-packages (from requests->-r requirements.txt (line 1)) (3.3)\n",
      "Requirement already satisfied: botocore<1.30.0,>=1.29.133 in /home/klima/.local/lib/python3.10/site-packages (from boto3->-r requirements.txt (line 2)) (1.29.133)\n",
      "Requirement already satisfied: jmespath<2.0.0,>=0.7.1 in /usr/lib/python3/dist-packages (from boto3->-r requirements.txt (line 2)) (0.10.0)\n",
      "Requirement already satisfied: s3transfer<0.7.0,>=0.6.0 in /home/klima/.local/lib/python3.10/site-packages (from boto3->-r requirements.txt (line 2)) (0.6.1)\n",
      "Requirement already satisfied: python-dateutil<3.0.0,>=2.1 in /home/klima/.local/lib/python3.10/site-packages (from botocore<1.30.0,>=1.29.133->boto3->-r requirements.txt (line 2)) (2.8.2)\n",
      "Requirement already satisfied: six>=1.5 in /usr/lib/python3/dist-packages (from python-dateutil<3.0.0,>=2.1->botocore<1.30.0,>=1.29.133->boto3->-r requirements.txt (line 2)) (1.16.0)\n"
     ]
    }
   ],
   "source": [
    "import sys\n",
    "import subprocess\n",
    "\n",
    "exit_code = subprocess.check_call([sys.executable, \"-m\", \"pip\", \"install\", \"-r\", \"requirements.txt\"])\n",
    "if exit_code:\n",
    "    raise Exception(\"Non-zero return code when installing the dependencies, please try reinstalling them manually\")"
   ]
  },
  {
   "cell_type": "code",
   "execution_count": 10,
   "id": "aeba4c60",
   "metadata": {},
   "outputs": [
    {
     "name": "stdout",
     "output_type": "stream",
     "text": [
      "195.64.239.131/32\n",
      "Successfully created security group\n"
     ]
    },
    {
     "data": {
      "text/plain": [
       "{'Return': True,\n",
       " 'SecurityGroupRules': [{'SecurityGroupRuleId': 'sgr-013ca7e9a797a277a',\n",
       "   'GroupId': 'sg-02ee0b3cc61d4c15b',\n",
       "   'GroupOwnerId': '633143608043',\n",
       "   'IsEgress': False,\n",
       "   'IpProtocol': 'tcp',\n",
       "   'FromPort': 80,\n",
       "   'ToPort': 80,\n",
       "   'CidrIpv4': '195.64.239.131/32',\n",
       "   'Description': 'HTTP from my laptop'},\n",
       "  {'SecurityGroupRuleId': 'sgr-03170fd9e4cbbbcb8',\n",
       "   'GroupId': 'sg-02ee0b3cc61d4c15b',\n",
       "   'GroupOwnerId': '633143608043',\n",
       "   'IsEgress': False,\n",
       "   'IpProtocol': 'tcp',\n",
       "   'FromPort': 22,\n",
       "   'ToPort': 22,\n",
       "   'CidrIpv4': '195.64.239.131/32',\n",
       "   'Description': 'SSH from my laptop'},\n",
       "  {'SecurityGroupRuleId': 'sgr-06099232297163fe9',\n",
       "   'GroupId': 'sg-02ee0b3cc61d4c15b',\n",
       "   'GroupOwnerId': '633143608043',\n",
       "   'IsEgress': False,\n",
       "   'IpProtocol': 'tcp',\n",
       "   'FromPort': 8081,\n",
       "   'ToPort': 8081,\n",
       "   'CidrIpv4': '195.64.239.131/32',\n",
       "   'Description': 'HTTP from my laptop'}],\n",
       " 'ResponseMetadata': {'RequestId': '17fd149a-57bc-4767-b005-01233e3f0567',\n",
       "  'HTTPStatusCode': 200,\n",
       "  'HTTPHeaders': {'x-amzn-requestid': '17fd149a-57bc-4767-b005-01233e3f0567',\n",
       "   'cache-control': 'no-cache, no-store',\n",
       "   'strict-transport-security': 'max-age=31536000; includeSubDomains',\n",
       "   'content-type': 'text/xml;charset=UTF-8',\n",
       "   'content-length': '1733',\n",
       "   'date': 'Mon, 15 May 2023 01:55:16 GMT',\n",
       "   'server': 'AmazonEC2'},\n",
       "  'RetryAttempts': 0}}"
      ]
     },
     "execution_count": 10,
     "metadata": {},
     "output_type": "execute_result"
    }
   ],
   "source": [
    "import boto3\n",
    "import requests\n",
    "ec2_client = boto3.client(\"ec2\", \"us-east-1\")\n",
    "group_name = \"hillel-lesson20-2-security-group\"\n",
    "\n",
    "my_cidr = f'{requests.get(\"https://api.ipify.org?format=json\").json().get(\"ip\", \"127.0.0.1\")}/32'\n",
    "print(my_cidr)\n",
    "output = ec2_client.create_security_group(\n",
    "    Description=\"Security Group for Lesson 20\",\n",
    "    GroupName=group_name,\n",
    "    VpcId=\"vpc-0565475cef4feac4e\"\n",
    ")\n",
    "\n",
    "group_id = output.get('GroupId')\n",
    "print(\"Successfully created security group\")\n",
    "\n",
    "ec2_client.authorize_security_group_ingress(\n",
    "    GroupId=group_id,\n",
    "    IpPermissions=[{\n",
    "        \"IpProtocol\": \"tcp\",\n",
    "        \"FromPort\": 80,\n",
    "        \"ToPort\": 80,\n",
    "        \"IpRanges\": [{\n",
    "            \"CidrIp\": my_cidr,\n",
    "            \"Description\": \"HTTP from my laptop\"\n",
    "        }]\n",
    "    }, {\n",
    "        \"IpProtocol\": \"tcp\",\n",
    "        \"FromPort\": 22,\n",
    "        \"ToPort\": 22,\n",
    "        \"IpRanges\": [{\n",
    "            \"CidrIp\": my_cidr,\n",
    "            \"Description\": \"SSH from my laptop\"\n",
    "        }]\n",
    "    },\n",
    "        {\n",
    "        \"IpProtocol\": \"tcp\",\n",
    "        \"FromPort\": 8081,\n",
    "        \"ToPort\": 8081,\n",
    "        \"IpRanges\": [{\n",
    "            \"CidrIp\": my_cidr,\n",
    "            \"Description\": \"HTTP from my laptop\"\n",
    "        }]\n",
    "    }\n",
    "    ]\n",
    ")"
   ]
  },
  {
   "cell_type": "code",
   "execution_count": 11,
   "id": "7cbf79e6",
   "metadata": {},
   "outputs": [
    {
     "name": "stdout",
     "output_type": "stream",
     "text": [
      "Launched instances with ids: i-0dcb97ae530abdee6\n",
      "Instances with ids: i-0dcb97ae530abdee6 are up and running\n"
     ]
    }
   ],
   "source": [
    "import boto3\n",
    "ami_id = \"ami-03f7420f29bc510fd\"\n",
    "output = ec2_client.run_instances(\n",
    "  MaxCount=1,\n",
    "  MinCount=1,\n",
    "  InstanceType=\"t2.micro\",\n",
    "  ImageId=ami_id,\n",
    "  TagSpecifications=[\n",
    "        {\n",
    "            \"ResourceType\": 'instance',\n",
    "            \"Tags\": [\n",
    "                {\n",
    "                    'Key': 'klimadron-hw15',\n",
    "                    'Value': 'HW15-AndriiKlimakhin-Instance'\n",
    "                },\n",
    "            ]\n",
    "        }\n",
    "  ],\n",
    "#    KeyName=\"Name\",\n",
    "  IamInstanceProfile={\n",
    "      \"Name\": \"hillel-les20-role\"\n",
    "   },\n",
    "  SecurityGroupIds=[\n",
    "      group_id,\n",
    "   ],\n",
    "#   UserData=\"\"\"\n",
    "# #!/usr/bin/env bash\n",
    "# docker run -d --name nginx -p 80:80 nginx:alpine\n",
    "#   \"\"\" \n",
    ")\n",
    "instance_ids = list(map(lambda i : i.get(\"InstanceId\"), output.get(\"Instances\")))\n",
    "print(f\"Launched instances with ids: {' '.join(instance_ids)}\")\n",
    "jdun = ec2_client.get_waiter(\"instance_running\")\n",
    "jdun.wait(InstanceIds=instance_ids)\n",
    "print(f\"Instances with ids: {' '.join(instance_ids)} are up and running\")"
   ]
  },
  {
   "cell_type": "code",
   "execution_count": 12,
   "id": "03d03e16",
   "metadata": {
    "scrolled": false
   },
   "outputs": [
    {
     "name": "stdout",
     "output_type": "stream",
     "text": [
      "34.204.3.239\n"
     ]
    }
   ],
   "source": [
    "ec2_resource = boto3.resource(\"ec2\", \"us-east-1\")\n",
    "instance = ec2_resource.Instance(instance_ids[0])\n",
    "print(instance.public_ip_address)"
   ]
  },
  {
   "attachments": {},
   "cell_type": "markdown",
   "id": "e4f060f9",
   "metadata": {},
   "source": [
    "**Terminate** instances and wait until they are down:"
   ]
  },
  {
   "cell_type": "code",
   "execution_count": 13,
   "id": "43980aee",
   "metadata": {},
   "outputs": [],
   "source": [
    "# ec2_client.terminate_instances(InstanceIds=instance_ids)\n",
    "# jdun = ec2_client.get_waiter(\"instance_terminated\")\n",
    "# jdun.wait(InstanceIds=instance_ids)\n",
    "# print(f\"Instances with ids: {' '.join(instance_ids)} are terminated\")"
   ]
  }
 ],
 "metadata": {
  "kernelspec": {
   "display_name": "Python 3 (ipykernel)",
   "language": "python",
   "name": "python3"
  },
  "language_info": {
   "codemirror_mode": {
    "name": "ipython",
    "version": 3
   },
   "file_extension": ".py",
   "mimetype": "text/x-python",
   "name": "python",
   "nbconvert_exporter": "python",
   "pygments_lexer": "ipython3",
   "version": "3.10.6"
  }
 },
 "nbformat": 4,
 "nbformat_minor": 5
}

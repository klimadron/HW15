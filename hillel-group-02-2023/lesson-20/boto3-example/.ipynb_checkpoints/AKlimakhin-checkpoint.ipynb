{
 "cells": [
  {
   "cell_type": "code",
   "execution_count": 1,
   "id": "e736a1e2-2cfa-4a31-bf3a-d8bd4ec6d4b0",
   "metadata": {
    "tags": []
   },
   "outputs": [
    {
     "name": "stdout",
     "output_type": "stream",
     "text": [
      "Defaulting to user installation because normal site-packages is not writeable\n",
      "Requirement already satisfied: requests in /home/klima/.local/lib/python3.10/site-packages (from -r requirements.txt (line 1)) (2.30.0)\n",
      "Requirement already satisfied: boto3 in /home/klima/.local/lib/python3.10/site-packages (from -r requirements.txt (line 2)) (1.26.133)\n",
      "Requirement already satisfied: certifi>=2017.4.17 in /usr/lib/python3/dist-packages (from requests->-r requirements.txt (line 1)) (2020.6.20)\n",
      "Requirement already satisfied: idna<4,>=2.5 in /usr/lib/python3/dist-packages (from requests->-r requirements.txt (line 1)) (3.3)\n",
      "Requirement already satisfied: charset-normalizer<4,>=2 in /home/klima/.local/lib/python3.10/site-packages (from requests->-r requirements.txt (line 1)) (3.1.0)\n",
      "Requirement already satisfied: urllib3<3,>=1.21.1 in /usr/lib/python3/dist-packages (from requests->-r requirements.txt (line 1)) (1.26.5)\n",
      "Requirement already satisfied: jmespath<2.0.0,>=0.7.1 in /usr/lib/python3/dist-packages (from boto3->-r requirements.txt (line 2)) (0.10.0)\n",
      "Requirement already satisfied: s3transfer<0.7.0,>=0.6.0 in /home/klima/.local/lib/python3.10/site-packages (from boto3->-r requirements.txt (line 2)) (0.6.1)\n",
      "Requirement already satisfied: botocore<1.30.0,>=1.29.133 in /home/klima/.local/lib/python3.10/site-packages (from boto3->-r requirements.txt (line 2)) (1.29.133)\n",
      "Requirement already satisfied: python-dateutil<3.0.0,>=2.1 in /home/klima/.local/lib/python3.10/site-packages (from botocore<1.30.0,>=1.29.133->boto3->-r requirements.txt (line 2)) (2.8.2)\n",
      "Requirement already satisfied: six>=1.5 in /usr/lib/python3/dist-packages (from python-dateutil<3.0.0,>=2.1->botocore<1.30.0,>=1.29.133->boto3->-r requirements.txt (line 2)) (1.16.0)\n"
     ]
    }
   ],
   "source": [
    "import sys\n",
    "import subprocess\n",
    "\n",
    "exit_code = subprocess.check_call([sys.executable, \"-m\", \"pip\", \"install\", \"-r\", \"requirements.txt\"])\n",
    "if exit_code:\n",
    "    raise Exception(\"Non-zero return code when installing the dependencies, please try reinstalling them manually\")"
   ]
  },
  {
   "cell_type": "code",
   "execution_count": 5,
   "id": "aeba4c60",
   "metadata": {},
   "outputs": [
    {
     "name": "stdout",
     "output_type": "stream",
     "text": [
      "195.64.239.131/32\n"
     ]
    },
    {
     "ename": "NameError",
     "evalue": "name 'ec2_client' is not defined",
     "output_type": "error",
     "traceback": [
      "\u001b[0;31m---------------------------------------------------------------------------\u001b[0m",
      "\u001b[0;31mNameError\u001b[0m                                 Traceback (most recent call last)",
      "Cell \u001b[0;32mIn[5], line 8\u001b[0m\n\u001b[1;32m      6\u001b[0m my_cidr \u001b[38;5;241m=\u001b[39m \u001b[38;5;124mf\u001b[39m\u001b[38;5;124m'\u001b[39m\u001b[38;5;132;01m{\u001b[39;00mrequests\u001b[38;5;241m.\u001b[39mget(\u001b[38;5;124m\"\u001b[39m\u001b[38;5;124mhttps://api.ipify.org?format=json\u001b[39m\u001b[38;5;124m\"\u001b[39m)\u001b[38;5;241m.\u001b[39mjson()\u001b[38;5;241m.\u001b[39mget(\u001b[38;5;124m\"\u001b[39m\u001b[38;5;124mip\u001b[39m\u001b[38;5;124m\"\u001b[39m,\u001b[38;5;250m \u001b[39m\u001b[38;5;124m\"\u001b[39m\u001b[38;5;124m127.0.0.1\u001b[39m\u001b[38;5;124m\"\u001b[39m)\u001b[38;5;132;01m}\u001b[39;00m\u001b[38;5;124m/32\u001b[39m\u001b[38;5;124m'\u001b[39m\n\u001b[1;32m      7\u001b[0m \u001b[38;5;28mprint\u001b[39m(my_cidr)\n\u001b[0;32m----> 8\u001b[0m output \u001b[38;5;241m=\u001b[39m \u001b[43mec2_client\u001b[49m\u001b[38;5;241m.\u001b[39mcreate_security_group(\n\u001b[1;32m      9\u001b[0m     Description\u001b[38;5;241m=\u001b[39m\u001b[38;5;124m\"\u001b[39m\u001b[38;5;124mSecurity Group for Lesson 20\u001b[39m\u001b[38;5;124m\"\u001b[39m,\n\u001b[1;32m     10\u001b[0m     GroupName\u001b[38;5;241m=\u001b[39mgroup_name,\n\u001b[1;32m     11\u001b[0m     VpcId\u001b[38;5;241m=\u001b[39m\u001b[38;5;124m\"\u001b[39m\u001b[38;5;124mvpc-0565475cef4feac4e\u001b[39m\u001b[38;5;124m\"\u001b[39m\n\u001b[1;32m     12\u001b[0m )\n\u001b[1;32m     14\u001b[0m group_id \u001b[38;5;241m=\u001b[39m output\u001b[38;5;241m.\u001b[39mget(\u001b[38;5;124m'\u001b[39m\u001b[38;5;124mGroupId\u001b[39m\u001b[38;5;124m'\u001b[39m)\n\u001b[1;32m     15\u001b[0m \u001b[38;5;28mprint\u001b[39m(\u001b[38;5;124m\"\u001b[39m\u001b[38;5;124mSuccessfully created security group\u001b[39m\u001b[38;5;124m\"\u001b[39m)\n",
      "\u001b[0;31mNameError\u001b[0m: name 'ec2_client' is not defined"
     ]
    }
   ],
   "source": [
    "import boto3\n",
    "import requests\n",
    "\n",
    "group_name = \"hillel-lesson20-2-security-group\"\n",
    "\n",
    "my_cidr = f'{requests.get(\"https://api.ipify.org?format=json\").json().get(\"ip\", \"127.0.0.1\")}/32'\n",
    "print(my_cidr)\n",
    "output = ec2_client.create_security_group(\n",
    "    Description=\"Security Group for Lesson 20\",\n",
    "    GroupName=group_name,\n",
    "    VpcId=\"vpc-0565475cef4feac4e\"\n",
    ")\n",
    "\n",
    "group_id = output.get('GroupId')\n",
    "print(\"Successfully created security group\")\n",
    "\n",
    "ec2_client.authorize_security_group_ingress(\n",
    "    GroupId=group_id,\n",
    "    IpPermissions=[{\n",
    "        \"IpProtocol\": \"tcp\",\n",
    "        \"FromPort\": 80,\n",
    "        \"ToPort\": 80,\n",
    "        \"IpRanges\": [{\n",
    "            \"CidrIp\": my_cidr,\n",
    "            \"Description\": \"HTTP from my laptop\"\n",
    "        }]\n",
    "    }, {\n",
    "        \"IpProtocol\": \"tcp\",\n",
    "        \"FromPort\": 22,\n",
    "        \"ToPort\": 22,\n",
    "        \"IpRanges\": [{\n",
    "            \"CidrIp\": my_cidr,\n",
    "            \"Description\": \"SSH from my laptop\"\n",
    "        }]\n",
    "    },\n",
    "        {\n",
    "        \"IpProtocol\": \"tcp\",\n",
    "        \"FromPort\": 8081,\n",
    "        \"ToPort\": 8081,\n",
    "        \"IpRanges\": [{\n",
    "            \"CidrIp\": my_cidr,\n",
    "            \"Description\": \"HTTP from my laptop\"\n",
    "        }]\n",
    "    }\n",
    "    ]\n",
    ")"
   ]
  },
  {
   "cell_type": "code",
   "execution_count": null,
   "id": "7cbf79e6",
   "metadata": {},
   "outputs": [],
   "source": [
    "import boto3\n",
    "\n",
    "ami_id = \"ami-05e7cde018bd98526\"\n",
    "\n",
    "ec2_client = boto3.client(\"ec2\", \"us-east-1\")\n",
    "\n",
    "\n",
    "output = ec2_client.run_instances(\n",
    "  MaxCount=1,\n",
    "  MinCount=1,\n",
    "  InstanceType=\"t2.micro\",\n",
    "  ImageId=ami_id,\n",
    "  KeyName=\"Andrii-Klimakhin-hw15\",\n",
    "   IamInstanceProfile={\n",
    "     \"Name\": \"hillel-les20-role\"\n",
    "   },\n",
    "   SecurityGroupIds=[\n",
    "     group_id,\n",
    "   ],\n",
    "#   UserData=\"\"\"\n",
    "# #!/usr/bin/env bash\n",
    "# docker run -d --name nginx -p 80:80 nginx:alpine\n",
    "#   \"\"\"\n",
    ")\n",
    "instance_ids = list(map(lambda i : i.get(\"InstanceId\"), output.get(\"Instances\")))\n",
    "print(f\"Launched instances with ids: {' '.join(instance_ids)}\")\n",
    "jdun = ec2_client.get_waiter(\"instance_running\")\n",
    "jdun.wait(InstanceIds=instance_ids)\n",
    "print(f\"Instances with ids: {' '.join(instance_ids)} are up and running\")"
   ]
  },
  {
   "cell_type": "code",
   "execution_count": null,
   "id": "03d03e16",
   "metadata": {
    "scrolled": false
   },
   "outputs": [],
   "source": [
    "ec2_resource = boto3.resource(\"ec2\", \"us-east-1\")\n",
    "instance = ec2_resource.Instance(instance_ids[0])\n",
    "print(instance.public_ip_address)"
   ]
  },
  {
   "cell_type": "markdown",
   "id": "e4f060f9",
   "metadata": {},
   "source": [
    "**Terminate** instances and wait until they are down:"
   ]
  },
  {
   "cell_type": "code",
   "execution_count": null,
   "id": "43980aee",
   "metadata": {},
   "outputs": [],
   "source": [
    "ec2_client.terminate_instances(InstanceIds=instance_ids)\n",
    "jdun = ec2_client.get_waiter(\"instance_terminated\")\n",
    "jdun.wait(InstanceIds=instance_ids)\n",
    "print(f\"Instances with ids: {' '.join(instance_ids)} are terminated\")"
   ]
  },
  {
   "cell_type": "code",
   "execution_count": null,
   "id": "b81a6471",
   "metadata": {},
   "outputs": [],
   "source": []
  },
  {
   "cell_type": "code",
   "execution_count": null,
   "id": "a0075ee4",
   "metadata": {},
   "outputs": [],
   "source": []
  },
  {
   "cell_type": "code",
   "execution_count": null,
   "id": "a971d64b",
   "metadata": {},
   "outputs": [],
   "source": []
  },
  {
   "cell_type": "code",
   "execution_count": null,
   "id": "85a23639",
   "metadata": {},
   "outputs": [],
   "source": []
  }
 ],
 "metadata": {
  "kernelspec": {
   "display_name": "Python 3 (ipykernel)",
   "language": "python",
   "name": "python3"
  },
  "language_info": {
   "codemirror_mode": {
    "name": "ipython",
    "version": 3
   },
   "file_extension": ".py",
   "mimetype": "text/x-python",
   "name": "python",
   "nbconvert_exporter": "python",
   "pygments_lexer": "ipython3",
   "version": "3.10.6"
  }
 },
 "nbformat": 4,
 "nbformat_minor": 5
}

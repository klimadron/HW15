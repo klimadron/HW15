{
 "cells": [
  {
   "cell_type": "code",
   "execution_count": 1,
   "id": "e736a1e2-2cfa-4a31-bf3a-d8bd4ec6d4b0",
   "metadata": {
    "tags": []
   },
   "outputs": [
    {
     "name": "stdout",
     "output_type": "stream",
     "text": [
      "Defaulting to user installation because normal site-packages is not writeable\n",
      "Requirement already satisfied: requests in /home/klima/.local/lib/python3.10/site-packages (from -r requirements.txt (line 1)) (2.30.0)\n",
      "Requirement already satisfied: boto3 in /home/klima/.local/lib/python3.10/site-packages (from -r requirements.txt (line 2)) (1.26.133)\n",
      "Requirement already satisfied: idna<4,>=2.5 in /usr/lib/python3/dist-packages (from requests->-r requirements.txt (line 1)) (3.3)\n",
      "Requirement already satisfied: certifi>=2017.4.17 in /usr/lib/python3/dist-packages (from requests->-r requirements.txt (line 1)) (2020.6.20)\n",
      "Requirement already satisfied: urllib3<3,>=1.21.1 in /usr/lib/python3/dist-packages (from requests->-r requirements.txt (line 1)) (1.26.5)\n",
      "Requirement already satisfied: charset-normalizer<4,>=2 in /home/klima/.local/lib/python3.10/site-packages (from requests->-r requirements.txt (line 1)) (3.1.0)\n",
      "Requirement already satisfied: s3transfer<0.7.0,>=0.6.0 in /home/klima/.local/lib/python3.10/site-packages (from boto3->-r requirements.txt (line 2)) (0.6.1)\n",
      "Requirement already satisfied: botocore<1.30.0,>=1.29.133 in /home/klima/.local/lib/python3.10/site-packages (from boto3->-r requirements.txt (line 2)) (1.29.133)\n",
      "Requirement already satisfied: jmespath<2.0.0,>=0.7.1 in /usr/lib/python3/dist-packages (from boto3->-r requirements.txt (line 2)) (0.10.0)\n",
      "Requirement already satisfied: python-dateutil<3.0.0,>=2.1 in /home/klima/.local/lib/python3.10/site-packages (from botocore<1.30.0,>=1.29.133->boto3->-r requirements.txt (line 2)) (2.8.2)\n",
      "Requirement already satisfied: six>=1.5 in /usr/lib/python3/dist-packages (from python-dateutil<3.0.0,>=2.1->botocore<1.30.0,>=1.29.133->boto3->-r requirements.txt (line 2)) (1.16.0)\n"
     ]
    }
   ],
   "source": [
    "import sys\n",
    "import subprocess\n",
    "\n",
    "exit_code = subprocess.check_call([sys.executable, \"-m\", \"pip\", \"install\", \"-r\", \"requirements.txt\"])\n",
    "if exit_code:\n",
    "    raise Exception(\"Non-zero return code when installing the dependencies, please try reinstalling them manually\")"
   ]
  },
  {
   "cell_type": "code",
   "execution_count": 3,
   "id": "83a82e5e-7558-4769-a035-b61dc7d83307",
   "metadata": {},
   "outputs": [
    {
     "name": "stdout",
     "output_type": "stream",
     "text": [
      "195.64.239.131/32\n"
     ]
    },
    {
     "ename": "NameError",
     "evalue": "name 'EC2_Client' is not defined",
     "output_type": "error",
     "traceback": [
      "\u001b[0;31m---------------------------------------------------------------------------\u001b[0m",
      "\u001b[0;31mNameError\u001b[0m                                 Traceback (most recent call last)",
      "Cell \u001b[0;32mIn[3], line 9\u001b[0m\n\u001b[1;32m      6\u001b[0m my_cidr \u001b[39m=\u001b[39m \u001b[39mf\u001b[39m\u001b[39m'\u001b[39m\u001b[39m{\u001b[39;00mrequests\u001b[39m.\u001b[39mget(\u001b[39m\"\u001b[39m\u001b[39mhttps://api.ipify.org?format=json\u001b[39m\u001b[39m\"\u001b[39m)\u001b[39m.\u001b[39mjson()\u001b[39m.\u001b[39mget(\u001b[39m\"\u001b[39m\u001b[39mip\u001b[39m\u001b[39m\"\u001b[39m,\u001b[39m \u001b[39m\u001b[39m\"\u001b[39m\u001b[39m127.0.0.1\u001b[39m\u001b[39m\"\u001b[39m)\u001b[39m}\u001b[39;00m\u001b[39m/32\u001b[39m\u001b[39m'\u001b[39m\n\u001b[1;32m      7\u001b[0m \u001b[39mprint\u001b[39m(my_cidr)\n\u001b[0;32m----> 9\u001b[0m output \u001b[39m=\u001b[39m EC2_Client\u001b[39m.\u001b[39mcreate_security_group(\n\u001b[1;32m     10\u001b[0m     Description\u001b[39m=\u001b[39m\u001b[39m\"\u001b[39m\u001b[39mSecurity Group for Lesson 20\u001b[39m\u001b[39m\"\u001b[39m,\n\u001b[1;32m     11\u001b[0m     GroupName\u001b[39m=\u001b[39mgroup_name,\n\u001b[1;32m     12\u001b[0m     VpcId\u001b[39m=\u001b[39m\u001b[39m\"\u001b[39m\u001b[39mvpc-0565475cef4feac4e\u001b[39m\u001b[39m\"\u001b[39m\n\u001b[1;32m     13\u001b[0m )\n\u001b[1;32m     15\u001b[0m group_id \u001b[39m=\u001b[39m output\u001b[39m.\u001b[39mget(\u001b[39m'\u001b[39m\u001b[39mGroupId\u001b[39m\u001b[39m'\u001b[39m)\n\u001b[1;32m     16\u001b[0m \u001b[39mprint\u001b[39m(\u001b[39m\"\u001b[39m\u001b[39mSuccessfully created security group\u001b[39m\u001b[39m\"\u001b[39m)\n",
      "\u001b[0;31mNameError\u001b[0m: name 'EC2_Client' is not defined"
     ]
    }
   ],
   "source": [
    "import boto3\n",
    "import requests\n",
    "ec2 = boto3.resource(\"ec2\", \"us-east-1\")\n",
    "group_name = \"hillel-lesson20-2-security-group\"\n",
    "\n",
    "my_cidr = f'{requests.get(\"https://api.ipify.org?format=json\").json().get(\"ip\", \"127.0.0.1\")}/32'\n",
    "print(my_cidr)\n",
    "\n",
    "output = EC2_Client.create_security_group(\n",
    "    Description=\"Security Group for Lesson 20\",\n",
    "    GroupName=group_name,\n",
    "    VpcId=\"vpc-0565475cef4feac4e\"\n",
    ")\n",
    "\n",
    "group_id = output.get('GroupId')\n",
    "print(\"Successfully created security group\")\n",
    "\n",
    "ec2_client.authorize_security_group_ingress(\n",
    "    GroupId=group_id,\n",
    "    IpPermissions=[{\n",
    "        \"IpProtocol\": \"tcp\",\n",
    "        \"FromPort\": 80,\n",
    "        \"ToPort\": 80,\n",
    "        \"IpRanges\": [{\n",
    "            \"CidrIp\": my_cidr,\n",
    "            \"Description\": \"HTTP from my laptop\"\n",
    "        }]\n",
    "    }, {\n",
    "        \"IpProtocol\": \"tcp\",\n",
    "        \"FromPort\": 22,\n",
    "        \"ToPort\": 22,\n",
    "        \"IpRanges\": [{\n",
    "            \"CidrIp\": my_cidr,\n",
    "            \"Description\": \"SSH from my laptop\"\n",
    "        }]\n",
    "    }]\n",
    ")"
   ]
  },
  {
   "cell_type": "code",
   "execution_count": 22,
   "id": "916bfd56-e695-496d-bae4-2fcd23a29f8b",
   "metadata": {
    "tags": []
   },
   "outputs": [
    {
     "name": "stdout",
     "output_type": "stream",
     "text": [
      "Launched instances with ids: i-074195fbd35809f47\n",
      "Instances with ids: i-074195fbd35809f47 are up and running\n"
     ]
    }
   ],
   "source": [
    "import boto3\n",
    "\n",
    "ami_id = \"ami-0d263ea651113b610\"\n",
    "\n",
    "ec2_client = boto3.client(\"ec2\", \"us-east-1\")\n",
    "\n",
    "\n",
    "output = ec2_client.run_instances(\n",
    "  MaxCount=1,\n",
    "  MinCount=1,\n",
    "  InstanceType=\"t3.micro\",\n",
    "  ImageId=ami_id,\n",
    "  KeyName=\"hillel-gr\",\n",
    "  IamInstanceProfile={\n",
    "    \"Name\": \"hillel-lesson20-role\"\n",
    "  },\n",
    "  SecurityGroupIds=[\n",
    "    group_id,\n",
    "  ],\n",
    "  UserData=\"\"\"\n",
    "#!/usr/bin/env bash\n",
    "docker run -d --name nginx -p 80:80 nginx:alpine\n",
    "  \"\"\"\n",
    ")\n",
    "\n",
    "instance_ids = list(map(lambda i : i.get(\"InstanceId\"), output.get(\"Instances\")))\n",
    "print(f\"Launched instances with ids: {' '.join(instance_ids)}\")\n",
    "\n",
    "jdun = ec2_client.get_waiter(\"instance_running\")\n",
    "jdun.wait(InstanceIds=instance_ids)\n",
    "print(f\"Instances with ids: {' '.join(instance_ids)} are up and running\")"
   ]
  },
  {
   "cell_type": "code",
   "execution_count": 23,
   "id": "3231f728-439f-4f4d-8d52-526b3a615b35",
   "metadata": {
    "tags": []
   },
   "outputs": [
    {
     "name": "stdout",
     "output_type": "stream",
     "text": [
      "34.200.219.71\n"
     ]
    }
   ],
   "source": [
    "ec2_resource = boto3.resource(\"ec2\", \"us-east-1\")\n",
    "instance = ec2_resource.Instance(instance_ids[0])\n",
    "print(instance.public_ip_address)"
   ]
  },
  {
   "attachments": {},
   "cell_type": "markdown",
   "id": "1b547577-e320-4bb3-a013-85e18f1974f9",
   "metadata": {},
   "source": [
    "**Terminate** instances and wait until they are down:"
   ]
  },
  {
   "cell_type": "code",
   "execution_count": 24,
   "id": "3d818b13-0e0b-4e1e-a676-8343a46e0fb3",
   "metadata": {
    "tags": []
   },
   "outputs": [
    {
     "name": "stdout",
     "output_type": "stream",
     "text": [
      "Instances with ids: i-074195fbd35809f47 are terminated\n"
     ]
    }
   ],
   "source": [
    "ec2_client.terminate_instances(InstanceIds=instance_ids)\n",
    "jdun = ec2_client.get_waiter(\"instance_terminated\")\n",
    "jdun.wait(InstanceIds=instance_ids)\n",
    "print(f\"Instances with ids: {' '.join(instance_ids)} are terminated\")"
   ]
  },
  {
   "cell_type": "code",
   "execution_count": null,
   "id": "e0f3ef4a-d167-44f0-a9c7-0dde4d03bb93",
   "metadata": {},
   "outputs": [],
   "source": []
  },
  {
   "cell_type": "code",
   "execution_count": null,
   "id": "a3ddbc7a-7317-4f8f-88c9-3c159aa7ffd7",
   "metadata": {},
   "outputs": [],
   "source": []
  },
  {
   "cell_type": "code",
   "execution_count": null,
   "id": "a54a2736-4da3-4adb-8c5f-bc3758c7607f",
   "metadata": {},
   "outputs": [],
   "source": []
  }
 ],
 "metadata": {
  "kernelspec": {
   "display_name": "Python 3 (ipykernel)",
   "language": "python",
   "name": "python3"
  },
  "language_info": {
   "codemirror_mode": {
    "name": "ipython",
    "version": 3
   },
   "file_extension": ".py",
   "mimetype": "text/x-python",
   "name": "python",
   "nbconvert_exporter": "python",
   "pygments_lexer": "ipython3",
   "version": "3.10.6"
  }
 },
 "nbformat": 4,
 "nbformat_minor": 5
}
